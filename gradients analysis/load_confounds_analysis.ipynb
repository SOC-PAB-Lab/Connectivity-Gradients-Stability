{
 "cells": [
  {
   "cell_type": "markdown",
   "id": "fdece633-009f-49ef-99f5-2132b664602e",
   "metadata": {
    "tags": []
   },
   "source": [
    "# Load_confounds Tutorial\n"
   ]
  },
  {
   "cell_type": "markdown",
   "id": "b2bf4e1c-e71e-4ccd-8183-c495506d91dd",
   "metadata": {},
   "source": [
    "Download these packeges if you don't have them in you virtual envioroment"
   ]
  },
  {
   "cell_type": "code",
   "execution_count": 1,
   "id": "a631c636-a514-4a69-9c4a-ab7ae49fac69",
   "metadata": {
    "tags": []
   },
   "outputs": [],
   "source": [
    "# Download these packeges if you don't have them in you virtual envioroment. (Un-comment code)\n",
    "\n",
    "import sys\n",
    "# !{sys.executable} -m pip install numpy\n",
    "# !{sys.executable} -m pip install nibabel\n",
    "# !{sys.executable} -m pip install nilearn\n",
    "# !{sys.executable} -m pip install pandas"
   ]
  },
  {
   "cell_type": "markdown",
   "id": "532ffbb5-cec3-4ec2-9ce0-10d375593e91",
   "metadata": {},
   "source": [
    "Import needed moduels "
   ]
  },
  {
   "cell_type": "code",
   "execution_count": 2,
   "id": "e3cade22-bf0b-4161-8dbc-d67a432738ed",
   "metadata": {
    "ExecuteTime": {
     "end_time": "2023-08-10T07:28:14.011665251Z",
     "start_time": "2023-08-10T07:28:13.397183106Z"
    },
    "tags": []
   },
   "outputs": [],
   "source": [
    "import pandas as pd\n",
    "import nibabel as nib\n",
    "from nilearn.maskers import NiftiMasker\n",
    "from nilearn.interfaces.fmriprep import load_confounds\n",
    "from nilearn import image as nimg\n",
    "from nilearn import masking"
   ]
  },
  {
   "cell_type": "markdown",
   "id": "d732f932-4013-4b19-a099-f3e248615145",
   "metadata": {},
   "source": [
    "For using load confounds you have to load an fmriprep output functionl file. For most purpuses, if <br/>\n",
    "you are not intrested in using the aroma confounds non-aggressivley, you should use the fmriprep <br/>\n",
    "output file that ends with the suffix **\"desc-preproc_bold.nii.gz\"**\n"
   ]
  },
  {
   "cell_type": "code",
   "execution_count": null,
   "id": "bbc9e0f1-19d5-49e6-a595-37196f82dc2d",
   "metadata": {
    "ExecuteTime": {
     "start_time": "2023-08-10T07:28:40.347040818Z"
    },
    "is_executing": true,
    "tags": []
   },
   "outputs": [
    {
     "name": "stdout",
     "output_type": "stream",
     "text": [
      "HNG_Data-fmriprep/derivative-0025427/sub-0025427/ses-01/func/sub-0025427_ses-01_task-rest_space-MNI152NLin2009cAsym_desc-preproc_bold.nii.gz\n",
      "[NiftiMasker.fit] Loading data from None\n",
      "[NiftiMasker.fit] Resampling mask\n",
      "________________________________________________________________________________\n",
      "[Memory] Calling nilearn.image.resampling.resample_img...\n",
      "resample_img(<nibabel.nifti1.Nifti1Image object at 0x7f4a93dfb730>, target_affine=None, target_shape=None, copy=False, interpolation='nearest')\n",
      "_____________________________________________________resample_img - 0.0s, 0.0min\n",
      "________________________________________________________________________________\n",
      "[Memory] Calling nilearn.maskers.nifti_masker._filter_and_mask...\n",
      "_filter_and_mask('HNG_Data-fmriprep/derivative-0025427/sub-0025427/ses-01/func/sub-0025427_ses-01_task-rest_space-MNI152NLin2009cAsym_desc-preproc_bold.nii.gz', \n",
      "<nibabel.nifti1.Nifti1Image object at 0x7f4a93dfb730>, { 'clean_kwargs': {},\n",
      "  'detrend': False,\n",
      "  'dtype': None,\n",
      "  'high_pass': 0.01,\n",
      "  'high_variance_confounds': False,\n",
      "  'low_pass': 0.1,\n",
      "  'reports': True,\n",
      "  'runs': None,\n",
      "  'smoothing_fwhm': None,\n",
      "  'standardize': False,\n",
      "  'standardize_confounds': True,\n",
      "  't_r': 1.4,\n",
      "  'target_affine': None,\n",
      "  'target_shape': None}, memory_level=1, memory=Memory(location=nilearn_cache/joblib), verbose=5, confounds=[             csf     rot_x  rot_x_derivative1  rot_x_derivative1_power2  \\\n",
      "0    997.044188  0.011750          -0.000066             -2.100347e-07   \n",
      "1     -2.742752  0.011611          -0.000066             -2.100347e-07   \n",
      "2      7.415530  0.011272          -0.000266             -1.144319e-07   \n",
      "3      7.757884  0.011325           0.000126             -2.265457e-07   \n",
      "4     -5.302764  0.011067          -0.000185             -1.630559e-07   \n",
      "..          ...       ...                ...                       ...   \n",
      "295   -8.053659 -0.009825          -0.000037             -2.172654e-07   \n",
      "296   -2.570104 -0.009329           0.000569              1.692626e-08   \n",
      "297   -8.727780 -0.009732       ..., sample_mask=array([  1, ..., 299]), copy=True, dtype=None)\n"
     ]
    },
    {
     "name": "stderr",
     "output_type": "stream",
     "text": [
      "/home/smadarlab/DataspellProjects/Yvonne/Brainspace/venv/lib/python3.10/site-packages/nilearn/maskers/nifti_masker.py:98: UserWarning: imgs are being resampled to the mask_img resolution. This process is memory intensive. You might want to provide a target_affine that is equal to the affine of the imgs or resample the mask beforehand to save memory and computation time.\n",
      "  warnings.warn(\n"
     ]
    },
    {
     "name": "stdout",
     "output_type": "stream",
     "text": [
      "[NiftiMasker.transform_single_imgs] Loading data from Nifti1Image('HNG_Data-fmriprep/derivative-0025427/sub-0025427/ses-01/func/sub-0025427_ses-01_task-rest_space-MNI152NLin2009cAsym_desc-preproc_bold.nii.gz')\n",
      "[NiftiMasker.transform_single_imgs] Resampling images\n",
      "[NiftiMasker.transform_single_imgs] Extracting region signals\n",
      "[NiftiMasker.transform_single_imgs] Cleaning extracted signals\n"
     ]
    }
   ],
   "source": [
    "#Load the path of the functional file according to you enviroment's path\n",
    "\n",
    "subjs = ['0025427','0025429','0025428', '0025430', '0025431', '0025432', '0025433', '0025434', '0025435', '0025436', '0025437','0025438', '0025439', '0025440', '0025441', '0025442', '0025443', '0025444', '0025445', '0025446', '0025447','0025448', '0025449', '0025450', '0025451', '0025452', '0025453', '0025454', '0025455', '0025456']\n",
    "#subjs = ['0025427']\n",
    "ses = [\"ses-01\",\"ses-02\",\"ses-10\"]\n",
    "for se in ses:\n",
    "    for s in subjs:\n",
    "        # load_confounds auto-detects the companion .tsv file (which needs to be in the same directory)\n",
    "        file = (\"HNG_Data-fmriprep/derivative-%s/sub-%s/%s/func/sub-%s_%s_task-rest_space-MNI152NLin2009cAsym_desc-preproc_bold.nii.gz\" % (s,s ,se,s,se))\n",
    "        print(file)\n",
    "        #Load the fmpriprep mask img\n",
    "        brain_mask = nib.load(\"HNG_Data-fmriprep/derivative-%s/BNS%s/sub-%s_ses-01_space-MNI152NLin2009cAsym_desc-brain_mask.nii.gz\" % (s,s,s))\n",
    "        #Load the module that allows for flexible paramters strategy \n",
    "\n",
    "        \n",
    "        #Extract confounds from fmripreps tsv confounds file\n",
    "        confounds_flexible, sample_mask_flexible = load_confounds(file, strategy=[\"motion\", \"wm_csf\"],motion= \"full\", wm_csf=\"basic\")\n",
    "        #Masker is used for applying a mask to extract time-series from Niimg-like objects\n",
    "        \n",
    "        ## Not sure wether o standardize signal\n",
    "        masker= NiftiMasker(mask_img=brain_mask, memory='nilearn_cache', verbose=5, t_r=1.4, low_pass=0.1, high_pass=0.01)\n",
    "        \n",
    "        #Extract time series and regress out confounds using GLM\n",
    "        time_series = masker.fit_transform(file, confounds=confounds_flexible, sample_mask=sample_mask_flexible)\n",
    "        \n",
    "        # Transform the 2D data matrix back to an image in brain space\n",
    "        clean_img = masker.inverse_transform(time_series)\n",
    "        nib.save(clean_img, (\"HNG_Data-fmriprep/derivative-%s/BNS%s/sub-%s_ses%s_MNI152NLin2009cAsym_desc-preproc_bold_afterLoadConf.nii.gz\"% (s,s ,se)))"
   ]
  }
 ],
 "metadata": {
  "kernelspec": {
   "display_name": "Python 3 (ipykernel)",
   "language": "python",
   "name": "python3"
  },
  "language_info": {
   "codemirror_mode": {
    "name": "ipython",
    "version": 3
   },
   "file_extension": ".py",
   "mimetype": "text/x-python",
   "name": "python",
   "nbconvert_exporter": "python",
   "pygments_lexer": "ipython3",
   "version": "3.10.12"
  },
  "toc-autonumbering": false,
  "toc-showcode": false,
  "toc-showmarkdowntxt": false,
  "toc-showtags": false
 },
 "nbformat": 4,
 "nbformat_minor": 5
}
